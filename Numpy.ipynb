{
 "cells": [
  {
   "cell_type": "markdown",
   "id": "2e2284cd",
   "metadata": {},
   "source": [
    "# Intro"
   ]
  },
  {
   "cell_type": "markdown",
   "id": "8df0ddd7",
   "metadata": {},
   "source": [
    "## **Before starting this library, we need to know the basics of Python which includes below:\n",
    "Matrices, lists, tuples, for loops, classes, dictionaries "
   ]
  },
  {
   "cell_type": "markdown",
   "id": "4caaaaf8",
   "metadata": {},
   "source": [
    "### Python version"
   ]
  },
  {
   "cell_type": "code",
   "execution_count": 1,
   "id": "1b6b0e9a",
   "metadata": {},
   "outputs": [
    {
     "name": "stdout",
     "output_type": "stream",
     "text": [
      "1.23.4\n"
     ]
    }
   ],
   "source": [
    "import numpy as np\n",
    "print(np.__version__)"
   ]
  },
  {
   "cell_type": "markdown",
   "id": "96a3ad68",
   "metadata": {},
   "source": [
    "### np.array()"
   ]
  },
  {
   "cell_type": "code",
   "execution_count": 2,
   "id": "cc44548c",
   "metadata": {},
   "outputs": [
    {
     "name": "stdout",
     "output_type": "stream",
     "text": [
      "[[1 2]\n",
      " [4 5]]\n"
     ]
    }
   ],
   "source": [
    "print(np.array([[1,2], [4,5]]))"
   ]
  },
  {
   "cell_type": "code",
   "execution_count": 3,
   "id": "93c7d8d6",
   "metadata": {},
   "outputs": [
    {
     "name": "stdout",
     "output_type": "stream",
     "text": [
      "w1=  [[1.+0.j 2.+0.j]\n",
      " [3.+0.j 4.+0.j]] \n",
      "w2=  [[1.+0.j 2.+0.j]\n",
      " [3.+0.j 4.+0.j]] \n",
      "w3=  [[1.+0.j 2.+0.j]\n",
      " [3.+0.j 4.+0.j]] \n",
      "w4=  [[1.+0.j 2.+0.j]\n",
      " [3.+0.j 4.+0.j]]\n"
     ]
    }
   ],
   "source": [
    "w1= np.array([[1,2], [3,4]], dtype=complex)\n",
    "w2= np.array([(1,2), (3,4)], dtype=complex)\n",
    "w3= np.array(([1,2], [3,4]), dtype=complex)\n",
    "w4= np.array(((1,2), (3,4)), dtype=complex)\n",
    "print(\"w1= \", w1,\"\\nw2= \",w2,\"\\nw3= \", w3, \"\\nw4= \",w4)"
   ]
  },
  {
   "cell_type": "markdown",
   "id": "13db42fe",
   "metadata": {},
   "source": [
    "### _.ndim, _.shape, _.size, _.dtype.name, _.itemsize"
   ]
  },
  {
   "cell_type": "code",
   "execution_count": 4,
   "id": "6844a5fb",
   "metadata": {},
   "outputs": [
    {
     "name": "stdout",
     "output_type": "stream",
     "text": [
      "[[1 2]\n",
      " [4 5]]\n",
      "<class 'numpy.ndarray'>\n",
      "2 (2, 2) 4 int32 4\n"
     ]
    }
   ],
   "source": [
    "c=np.array([[1,2], [4,5]])\n",
    "print(c)\n",
    "print(type(c))\n",
    "print(c.ndim, c.shape, c.size, c.dtype.name, c.itemsize)"
   ]
  },
  {
   "cell_type": "markdown",
   "id": "219f533b",
   "metadata": {},
   "source": [
    "### np.arange (start, stop, step)"
   ]
  },
  {
   "cell_type": "code",
   "execution_count": 5,
   "id": "d8b01804",
   "metadata": {},
   "outputs": [
    {
     "name": "stdout",
     "output_type": "stream",
     "text": [
      "a= \n",
      " [ 0  1  2  3  4  5  6  7  8  9 10 11 12 13 14 15 16 17 18 19]\n",
      "[12 13 14 15 16]\n",
      "[10 11 12 13 14 15 16 17 18 19]\n"
     ]
    }
   ],
   "source": [
    "a=np.arange(20)\n",
    "print(\"a= \\n\", a)\n",
    "\n",
    "print(a[-8:17:1])\n",
    "\n",
    "print(a[10:])"
   ]
  },
  {
   "cell_type": "code",
   "execution_count": 6,
   "id": "ba4d5934",
   "metadata": {
    "scrolled": true
   },
   "outputs": [
    {
     "name": "stdout",
     "output_type": "stream",
     "text": [
      "[ 0  1  2  3  4  5  6  7  8  9 10 11 12 13 14]\n",
      "<class 'numpy.ndarray'>\n",
      "1 (15,) 15 int32 4\n"
     ]
    }
   ],
   "source": [
    "a= np.arange(15)\n",
    "\n",
    "print(a)\n",
    "print(type(a))\n",
    "print(a.ndim, a.shape, a.size, a.dtype.name, a.itemsize)"
   ]
  },
  {
   "cell_type": "code",
   "execution_count": 7,
   "id": "8f68d6c2",
   "metadata": {},
   "outputs": [
    {
     "name": "stdout",
     "output_type": "stream",
     "text": [
      "[10 12 14 16 18 20 22 24 26 28]\n",
      "[0.  0.3 0.6 0.9 1.2 1.5 1.8]\n"
     ]
    }
   ],
   "source": [
    "d= np.arange(10,30,2)\n",
    "print(d)\n",
    "\n",
    "s=np.arange(0,2,0.3)\n",
    "print(s)"
   ]
  },
  {
   "cell_type": "markdown",
   "id": "8996f0d0",
   "metadata": {},
   "source": [
    "### np.linspace(start, stop, num , endpoint)  , np.logspace(start , stop , num , endpoint)"
   ]
  },
  {
   "cell_type": "code",
   "execution_count": 8,
   "id": "d46116b3",
   "metadata": {},
   "outputs": [
    {
     "name": "stdout",
     "output_type": "stream",
     "text": [
      "[10. 14. 18. 22. 26. 30.]\n",
      "[10 16 22 28]\n"
     ]
    }
   ],
   "source": [
    "l=np.linspace(10,30,6)   #6 is amount\n",
    "print(l)\n",
    "\n",
    "a= np.arange(10,30,6)  #6 is step\n",
    "print(a)"
   ]
  },
  {
   "cell_type": "code",
   "execution_count": 9,
   "id": "7a11de01",
   "metadata": {},
   "outputs": [
    {
     "name": "stdout",
     "output_type": "stream",
     "text": [
      "[2.         2.09090909 2.18181818 2.27272727 2.36363636 2.45454545\n",
      " 2.54545455 2.63636364 2.72727273 2.81818182 2.90909091 3.        ]\n",
      "-----------------------\n",
      "[2.         2.08333333 2.16666667 2.25       2.33333333 2.41666667\n",
      " 2.5        2.58333333 2.66666667 2.75       2.83333333 2.91666667]\n",
      "-----------------------\n",
      "[ 100.          215.443469    464.15888336 1000.        ]\n",
      "-----------------------\n",
      "[1.e+02 1.e+04 1.e+06 1.e+08]\n"
     ]
    }
   ],
   "source": [
    "import numpy as np\n",
    "\n",
    "a= np.linspace(2.0,3.0,num=12)\n",
    "print(a)\n",
    "print(\"-----------------------\")\n",
    "\n",
    "s=np.linspace(2.0,3.0,num=12,endpoint=False)  #without 3.0\n",
    "print(s)\n",
    "print(\"-----------------------\")\n",
    "\n",
    "w=np.logspace(2.0,3.0,num=4)             #logarithm of 4 numbers between 2 and 3\n",
    "print(w)\n",
    "print(\"-----------------------\")\n",
    "\n",
    "q=np.logspace(2.0,10.0,num=4,endpoint=False)\n",
    "print(q)"
   ]
  },
  {
   "cell_type": "markdown",
   "id": "b4531835",
   "metadata": {},
   "source": [
    "### np.reshape() "
   ]
  },
  {
   "cell_type": "code",
   "execution_count": 10,
   "id": "adfc6efa",
   "metadata": {},
   "outputs": [
    {
     "name": "stdout",
     "output_type": "stream",
     "text": [
      "[[0 1 2]\n",
      " [3 4 5]\n",
      " [6 7 8]]\n",
      "2 (3, 3) 9 int32 4\n"
     ]
    }
   ],
   "source": [
    "b= np.arange(9).reshape(3,3)\n",
    "\n",
    "print(b)\n",
    "print(b.ndim, b.shape, b.size, b.dtype.name, b.itemsize)"
   ]
  },
  {
   "cell_type": "code",
   "execution_count": 11,
   "id": "6b3ee001",
   "metadata": {},
   "outputs": [
    {
     "name": "stdout",
     "output_type": "stream",
     "text": [
      "d is:  [[[ 0  1  2  3]\n",
      "  [ 4  5  6  7]\n",
      "  [ 8  9 10 11]]\n",
      "\n",
      " [[12 13 14 15]\n",
      "  [16 17 18 19]\n",
      "  [20 21 22 23]]]\n",
      "3 (2, 3, 4) 24 int32 4\n"
     ]
    }
   ],
   "source": [
    "d= np.arange(24).reshape(2,3,4)\n",
    "print(\"d is: \",d)\n",
    "print(d.ndim, d.shape, d.size, d.dtype.name, d.itemsize)"
   ]
  },
  {
   "cell_type": "code",
   "execution_count": 12,
   "id": "daed048f",
   "metadata": {},
   "outputs": [
    {
     "name": "stdout",
     "output_type": "stream",
     "text": [
      "s is:  [   0    1    2 ... 9997 9998 9999] index98 is  98\n",
      "---------------------------------------\n",
      "[[[   0    1    2 ...   97   98   99]\n",
      "  [ 100  101  102 ...  197  198  199]\n",
      "  [ 200  201  202 ...  297  298  299]\n",
      "  ...\n",
      "  [1700 1701 1702 ... 1797 1798 1799]\n",
      "  [1800 1801 1802 ... 1897 1898 1899]\n",
      "  [1900 1901 1902 ... 1997 1998 1999]]\n",
      "\n",
      " [[2000 2001 2002 ... 2097 2098 2099]\n",
      "  [2100 2101 2102 ... 2197 2198 2199]\n",
      "  [2200 2201 2202 ... 2297 2298 2299]\n",
      "  ...\n",
      "  [3700 3701 3702 ... 3797 3798 3799]\n",
      "  [3800 3801 3802 ... 3897 3898 3899]\n",
      "  [3900 3901 3902 ... 3997 3998 3999]]\n",
      "\n",
      " [[4000 4001 4002 ... 4097 4098 4099]\n",
      "  [4100 4101 4102 ... 4197 4198 4199]\n",
      "  [4200 4201 4202 ... 4297 4298 4299]\n",
      "  ...\n",
      "  [5700 5701 5702 ... 5797 5798 5799]\n",
      "  [5800 5801 5802 ... 5897 5898 5899]\n",
      "  [5900 5901 5902 ... 5997 5998 5999]]\n",
      "\n",
      " [[6000 6001 6002 ... 6097 6098 6099]\n",
      "  [6100 6101 6102 ... 6197 6198 6199]\n",
      "  [6200 6201 6202 ... 6297 6298 6299]\n",
      "  ...\n",
      "  [7700 7701 7702 ... 7797 7798 7799]\n",
      "  [7800 7801 7802 ... 7897 7898 7899]\n",
      "  [7900 7901 7902 ... 7997 7998 7999]]\n",
      "\n",
      " [[8000 8001 8002 ... 8097 8098 8099]\n",
      "  [8100 8101 8102 ... 8197 8198 8199]\n",
      "  [8200 8201 8202 ... 8297 8298 8299]\n",
      "  ...\n",
      "  [9700 9701 9702 ... 9797 9798 9799]\n",
      "  [9800 9801 9802 ... 9897 9898 9899]\n",
      "  [9900 9901 9902 ... 9997 9998 9999]]]\n"
     ]
    }
   ],
   "source": [
    "s= np.arange(10000)\n",
    "print(\"s is: \",s ,\"index98 is \",s[98])\n",
    "print(\"---------------------------------------\")\n",
    "\n",
    "print(np.arange(10000).reshape(5,20,100))"
   ]
  },
  {
   "cell_type": "markdown",
   "id": "1c325b62",
   "metadata": {},
   "source": [
    "### np.where (condition, where true X, where false Y])"
   ]
  },
  {
   "cell_type": "code",
   "execution_count": 13,
   "id": "eb03cb80",
   "metadata": {},
   "outputs": [
    {
     "name": "stdout",
     "output_type": "stream",
     "text": [
      "c is:  [[1.5 2.  3. ]\n",
      " [4.  5.  6. ]]\n",
      "--------------\n",
      "[[0. 0. 0.]\n",
      " [0. 0. 6.]]\n"
     ]
    }
   ],
   "source": [
    "c= np.array([(1.5,2,3), (4,5,6)])\n",
    "print(\"c is: \", c)\n",
    "print('--------------')\n",
    "\n",
    "print(np.where(c>5, c,0))"
   ]
  },
  {
   "cell_type": "markdown",
   "id": "9b1e24c1",
   "metadata": {},
   "source": [
    "### np.zeros(shape) , np.ones(shape) , np.full(shape , fill_value , dtype)"
   ]
  },
  {
   "cell_type": "code",
   "execution_count": 14,
   "id": "7719f41b",
   "metadata": {},
   "outputs": [
    {
     "name": "stdout",
     "output_type": "stream",
     "text": [
      "[[0. 0. 0. 0. 0.]\n",
      " [0. 0. 0. 0. 0.]]\n",
      "----------------\n",
      "[[[1 1 1 1 1]\n",
      "  [1 1 1 1 1]\n",
      "  [1 1 1 1 1]]\n",
      "\n",
      " [[1 1 1 1 1]\n",
      "  [1 1 1 1 1]\n",
      "  [1 1 1 1 1]]]\n"
     ]
    }
   ],
   "source": [
    "a=np.zeros([2,5])\n",
    "print(a)\n",
    "print('----------------')\n",
    "\n",
    "b= np.ones([2,3,5], dtype=np.int16)\n",
    "print(b)"
   ]
  },
  {
   "cell_type": "code",
   "execution_count": 15,
   "id": "28e89e3d",
   "metadata": {},
   "outputs": [
    {
     "name": "stdout",
     "output_type": "stream",
     "text": [
      "a=  [[1. 2. 4.]\n",
      " [5. 8. 7.]]\n",
      "b=  [1 3 2]\n",
      "c=  [[0. 0. 0. 0.]\n",
      " [0. 0. 0. 0.]\n",
      " [0. 0. 0. 0.]]\n",
      "d=  [[6.+0.j 6.+0.j 6.+0.j]\n",
      " [6.+0.j 6.+0.j 6.+0.j]\n",
      " [6.+0.j 6.+0.j 6.+0.j]]\n"
     ]
    }
   ],
   "source": [
    "a= np.array([[1,2,4], [5,8,7]], dtype ='float')\n",
    "print(\"a= \", a)\n",
    "\n",
    "b= np.array((1,3,2))\n",
    "print(\"b= \", b)\n",
    "\n",
    "c= np.zeros((3,4))\n",
    "print(\"c= \", c)\n",
    "\n",
    "d= np.full((3,3), 6, dtype= 'complex')\n",
    "print(\"d= \", d)"
   ]
  },
  {
   "cell_type": "markdown",
   "id": "9ce1994c",
   "metadata": {},
   "source": [
    "### np.random.random(shape) "
   ]
  },
  {
   "cell_type": "code",
   "execution_count": 16,
   "id": "34ad2de2",
   "metadata": {},
   "outputs": [
    {
     "name": "stdout",
     "output_type": "stream",
     "text": [
      "e=  [[0.5317554  0.25069802 0.24061427 0.54692697]\n",
      " [0.18797495 0.17860289 0.17714549 0.68302875]\n",
      " [0.01193214 0.90180542 0.42602459 0.08418794]\n",
      " [0.03049785 0.43163696 0.95875963 0.56288459]]\n",
      "f=  [ 0  5 10 15 20 25]\n",
      "g=  [0.         0.55555556 1.11111111 1.66666667 2.22222222 2.77777778\n",
      " 3.33333333 3.88888889 4.44444444 5.        ]\n"
     ]
    }
   ],
   "source": [
    "e= np.random.random((4,4))  #first random called the module    #second random create a random array\n",
    "print(\"e= \", e)\n",
    "\n",
    "f= np.arange(0,30,5)\n",
    "print(\"f= \", f)\n",
    "\n",
    "g= np.linspace(0,5,10)\n",
    "print(\"g= \", g)"
   ]
  },
  {
   "cell_type": "markdown",
   "id": "88dff06a",
   "metadata": {},
   "source": [
    "###  _.flatten()   , np.ravel()"
   ]
  },
  {
   "cell_type": "code",
   "execution_count": 17,
   "id": "ca542d15",
   "metadata": {},
   "outputs": [
    {
     "name": "stdout",
     "output_type": "stream",
     "text": [
      "arr=  [[1 2 3 4]\n",
      " [5 2 4 2]\n",
      " [1 2 0 1]]\n",
      "newarr=  [[[1 2 3]\n",
      "  [4 5 2]]\n",
      "\n",
      " [[4 2 1]\n",
      "  [2 0 1]]]\n",
      "flarr=  [1 2 3 4 5 2 4 2 1 2 0 1]\n"
     ]
    }
   ],
   "source": [
    "arr= np.array([[1,2,3,4],\n",
    "                [5,2,4,2],\n",
    "                [1,2,0,1]])\n",
    "newarr= arr.reshape(2,2,3)\n",
    "print(\"arr= \", arr)\n",
    "print(\"newarr= \", newarr)\n",
    "\n",
    "arr1= np.array([[1,2,3], [4,5,6], [8,9,10]])\n",
    "flarr= arr.flatten()\n",
    "print(\"flarr= \", flarr)"
   ]
  },
  {
   "cell_type": "code",
   "execution_count": 18,
   "id": "048323a6",
   "metadata": {},
   "outputs": [
    {
     "name": "stdout",
     "output_type": "stream",
     "text": [
      "a= \n",
      " [[ 1  2  3]\n",
      " [ 4  5  6]\n",
      " [ 7  8  9]\n",
      " [10 11 12]]\n",
      "shape= (4, 3)\n",
      "ravel= [ 1  2  3  4  5  6  7  8  9 10 11 12]\n",
      "[[ 1  2]\n",
      " [ 3  4]\n",
      " [ 5  6]\n",
      " [ 7  8]\n",
      " [ 9 10]\n",
      " [11 12]]\n"
     ]
    }
   ],
   "source": [
    "import numpy as np\n",
    "a= np.array([[1,2,3],\n",
    "            [4,5,6],\n",
    "            [7,8,9],\n",
    "            [10,11,12]])\n",
    "\n",
    "print(\"a= \\n\", a)\n",
    "\n",
    "print(\"shape=\",a.shape)\n",
    "\n",
    "print(\"ravel=\",np.ravel(a))\n",
    "\n",
    "print(a.reshape(6,2))"
   ]
  },
  {
   "cell_type": "markdown",
   "id": "eb84b782",
   "metadata": {},
   "source": [
    "## Mathematic in Numpy"
   ]
  },
  {
   "cell_type": "markdown",
   "id": "8de10e66",
   "metadata": {},
   "source": [
    "### [+ , - , * , / , **] , pi , np.sin() ... , Transpose -> .T"
   ]
  },
  {
   "cell_type": "code",
   "execution_count": 19,
   "id": "b5258a21",
   "metadata": {},
   "outputs": [
    {
     "name": "stdout",
     "output_type": "stream",
     "text": [
      "a+1=  [2 3 6 4]\n",
      "a-3=  [-2 -1  2  0]\n",
      "a*10=  [10 20 50 30]\n",
      "a**2=  [ 1  4 25  9]\n",
      "2a=  [ 2  4 10  6]\n"
     ]
    }
   ],
   "source": [
    "a= np.array([1,2,5,3])\n",
    "\n",
    "print(\"a+1= \",a+1)\n",
    "print(\"a-3= \",a-3)\n",
    "print(\"a*10= \",a*10)\n",
    "print(\"a**2= \",a**2)\n",
    "\n",
    "a *= 2\n",
    "print(\"2a= \",a)"
   ]
  },
  {
   "cell_type": "code",
   "execution_count": 20,
   "id": "b1c04be4",
   "metadata": {},
   "outputs": [
    {
     "name": "stdout",
     "output_type": "stream",
     "text": [
      "x=  [0.         2.0943951  4.1887902  6.28318531]\n",
      "f=  [ 0.00000000e+00  8.66025404e-01 -8.66025404e-01 -2.44929360e-16]\n"
     ]
    }
   ],
   "source": [
    "from numpy import pi\n",
    "\n",
    "x= np.linspace(0, 2*pi, 4)\n",
    "print(\"x= \",x)\n",
    "\n",
    "f= np.sin(x)\n",
    "print(\"f= \",f)"
   ]
  },
  {
   "cell_type": "code",
   "execution_count": 21,
   "id": "12ef8699",
   "metadata": {},
   "outputs": [
    {
     "name": "stdout",
     "output_type": "stream",
     "text": [
      "b=  [[1 2 3]\n",
      " [3 4 5]\n",
      " [9 6 0]]\n",
      "b Transpose=  [[1 3 9]\n",
      " [2 4 6]\n",
      " [3 5 0]]\n"
     ]
    }
   ],
   "source": [
    "b= np.array([[1,2,3], [3,4,5], [9,6,0]])\n",
    "print(\"b= \", b)\n",
    "print(\"b Transpose= \", b.T)"
   ]
  },
  {
   "cell_type": "code",
   "execution_count": 22,
   "id": "495f6bea",
   "metadata": {},
   "outputs": [
    {
     "name": "stdout",
     "output_type": "stream",
     "text": [
      "[  0   1   4   9  16  25  36  49  64  81 100 121]\n",
      "[ 1  4  9 64 25]\n",
      "-----------------\n",
      "[[121  81  49]\n",
      " [ 16   4   1]]\n"
     ]
    }
   ],
   "source": [
    "import numpy as np\n",
    "\n",
    "a= np.arange(12)**2\n",
    "print(a)\n",
    "\n",
    "i=np.array([1,2,3,8,5])\n",
    "print(a[i])\n",
    "print(\"-----------------\")\n",
    "\n",
    "j=np.array([[-1,-3,-5],[4,2,1]])\n",
    "print(a[j])"
   ]
  },
  {
   "cell_type": "markdown",
   "id": "dc26b852",
   "metadata": {},
   "source": [
    "### _.max(axis= ) , _.min(axis= ) , _.sum( ) , _.cumsum(axis= )\n",
    "axis=1 ---> Rowweise ---------- axis=0 ---> Columnweise"
   ]
  },
  {
   "cell_type": "code",
   "execution_count": 23,
   "id": "a6820b63",
   "metadata": {},
   "outputs": [
    {
     "name": "stdout",
     "output_type": "stream",
     "text": [
      "arrMAX=  9\n",
      "arrRowMAX=  [6 7 9]\n",
      "arrColumnMIN=  [1 1 2]\n",
      "arrSum=  38\n",
      "arrRowSum= \n",
      " [[ 1  6 12]\n",
      " [ 4 11 13]\n",
      " [ 3  4 13]]\n",
      "arrColumnSum= \n",
      " [[ 1  5  6]\n",
      " [ 5 12  8]\n",
      " [ 8 13 17]]\n"
     ]
    }
   ],
   "source": [
    "arr= np.array([[1,5,6],\n",
    "               [4,7,2],\n",
    "               [3,1,9]])\n",
    "print(\"arrMAX= \", arr.max())\n",
    "print(\"arrRowMAX= \", arr.max(axis=1))\n",
    "print(\"arrColumnMIN= \", arr.min(axis=0))\n",
    "print(\"arrSum= \", arr.sum())\n",
    "print(\"arrRowSum= \\n\", arr.cumsum(axis=1))\n",
    "print(\"arrColumnSum= \\n\", arr.cumsum(axis=0))"
   ]
  },
  {
   "cell_type": "markdown",
   "id": "9c01457d",
   "metadata": {},
   "source": [
    "### _.dot(_)  --->  Matrix Multiplication"
   ]
  },
  {
   "cell_type": "code",
   "execution_count": 24,
   "id": "495c2b87",
   "metadata": {},
   "outputs": [
    {
     "name": "stdout",
     "output_type": "stream",
     "text": [
      "Sum=\n",
      " [[ 5  6]\n",
      " [ 8 10]]\n",
      "Product=\n",
      " [[ 4  8]\n",
      " [15 24]]\n",
      "Matrix Multiplication=\n",
      " [[14 16]\n",
      " [32 36]]\n"
     ]
    }
   ],
   "source": [
    "a= np.array([[1,2],\n",
    "             [3,4]])\n",
    "b= np.array([[4,4],\n",
    "             [5,6]])\n",
    "\n",
    "print(\"Sum=\\n\", a+b)\n",
    "print(\"Product=\\n\", a*b)\n",
    "print(\"Matrix Multiplication=\\n\", a.dot(b))"
   ]
  },
  {
   "cell_type": "markdown",
   "id": "a3196ec1",
   "metadata": {},
   "source": [
    "### np.sqrt() "
   ]
  },
  {
   "cell_type": "code",
   "execution_count": 25,
   "id": "53fd3d8d",
   "metadata": {},
   "outputs": [
    {
     "name": "stdout",
     "output_type": "stream",
     "text": [
      "Sine values of array elements:  [ 1.000000e+00  6.123234e-17 -1.000000e+00]\n",
      "Square root of array elements:  [0.         1.25331414 1.77245385]\n"
     ]
    }
   ],
   "source": [
    "a= np.array([0, np.pi/2, np.pi])\n",
    "print(\"Sine values of array elements: \", np.cos(a))\n",
    "print(\"Square root of array elements: \", np.sqrt(a))"
   ]
  },
  {
   "cell_type": "markdown",
   "id": "0a2795de",
   "metadata": {},
   "source": [
    "### np.sort(array, axis= , kind= , order= )"
   ]
  },
  {
   "cell_type": "code",
   "execution_count": 26,
   "id": "4c09aae2",
   "metadata": {},
   "outputs": [
    {
     "name": "stdout",
     "output_type": "stream",
     "text": [
      "Sorted copy of array elements:  [ 0  3  8 10 15]\n"
     ]
    }
   ],
   "source": [
    "b= np.array([0,10,8,3,15])\n",
    "print(\"Sorted copy of array elements: \", np.sort(b))"
   ]
  },
  {
   "cell_type": "code",
   "execution_count": 27,
   "id": "ff648ad3",
   "metadata": {},
   "outputs": [
    {
     "name": "stdout",
     "output_type": "stream",
     "text": [
      "sorted array: \n",
      " [-1  0  1  2  3  4  4  5  6]\n",
      "Row sorted array: \n",
      " [[ 1  2  4]\n",
      " [ 3  4  6]\n",
      " [-1  0  5]]\n",
      "Coulmn merged sort: \n",
      " [[ 0 -1  2]\n",
      " [ 1  4  5]\n",
      " [ 3  4  6]]\n"
     ]
    }
   ],
   "source": [
    "a= np.array= ([[1,4,2],\n",
    "               [3,4,6],\n",
    "               [0,-1,5]])\n",
    "print(\"sorted array: \\n\", np.sort(a, axis= None))\n",
    "\n",
    "print(\"Row sorted array: \\n\", np.sort(a, axis= 1))\n",
    "\n",
    "print(\"Coulmn merged sort: \\n\", np.sort(a, axis=0, kind='mergesort'))"
   ]
  },
  {
   "cell_type": "markdown",
   "id": "2c982266",
   "metadata": {},
   "source": [
    "### np.asarray([list] , dtype= )"
   ]
  },
  {
   "cell_type": "code",
   "execution_count": 28,
   "id": "5e89c7fa",
   "metadata": {},
   "outputs": [
    {
     "name": "stdout",
     "output_type": "stream",
     "text": [
      "[10 18 24 28 30 30]\n"
     ]
    }
   ],
   "source": [
    "list1= [1,2,3,4,5,6]\n",
    "list2= [10,9,8,7,6,5]\n",
    "\n",
    "a1= np.asarray(list1)\n",
    "a2= np.asarray(list2)\n",
    "\n",
    "print(a1*a2)"
   ]
  },
  {
   "cell_type": "code",
   "execution_count": 29,
   "id": "57eac32b",
   "metadata": {},
   "outputs": [
    {
     "name": "stdout",
     "output_type": "stream",
     "text": [
      "a= \n",
      " [10  8  6  4  2]\n",
      "<class 'numpy.ndarray'>\n",
      "b= \n",
      " [4 8 6]\n",
      "<class 'numpy.ndarray'>\n"
     ]
    }
   ],
   "source": [
    "a=np.arange(10,1,-2)      #a is a numpy array\n",
    "print(\"a= \\n\",a)\n",
    "print(type(a))\n",
    "b= a[np.asarray([3,1,2])]    #b is a numpy array from a list of a\n",
    "print(\"b= \\n\", b)\n",
    "print(type(b))"
   ]
  },
  {
   "cell_type": "code",
   "execution_count": 30,
   "id": "6826bc5f",
   "metadata": {},
   "outputs": [
    {
     "name": "stdout",
     "output_type": "stream",
     "text": [
      "array sorted by names: \n",
      " [(b'Aakash', 2009, 9. ) (b'Ajay', 2008, 8.7) (b'Hrithik', 2009, 8.5)\n",
      " (b'Pankaj', 2008, 7.9)]\n",
      "array sorted by graduation year and then cgpa: \n",
      " [(b'Pankaj', 2008, 7.9) (b'Ajay', 2008, 8.7) (b'Hrithik', 2009, 8.5)\n",
      " (b'Aakash', 2009, 9. )]\n"
     ]
    }
   ],
   "source": [
    "dtypes= [('name', 'S10'), ('grad_year', int), ('cgpa', float)]      #'S10' means the type is string \n",
    "\n",
    "values= [('Hrithik', 2009, 8.5), ('Ajay', 2008, 8.7),\n",
    "         ('Pankaj', 2008, 7.9), ('Aakash', 2009, 9.0)]\n",
    "\n",
    "arr= np.asarray(values, dtype = dtypes)                  ######?????????????\n",
    "\n",
    "print(\"array sorted by names: \\n\", np.sort(arr, order='name'))\n",
    "print(\"array sorted by graduation year and then cgpa: \\n\", np.sort(arr, order=['grad_year', 'cgpa']))"
   ]
  },
  {
   "cell_type": "markdown",
   "id": "c37e8241",
   "metadata": {},
   "source": [
    "### np.fromfunction(funktion, shape, dtype, like)"
   ]
  },
  {
   "cell_type": "code",
   "execution_count": 31,
   "id": "27991cf2",
   "metadata": {},
   "outputs": [
    {
     "name": "stdout",
     "output_type": "stream",
     "text": [
      "b= \n",
      " [[ 0  1  2  3]\n",
      " [10 11 12 13]\n",
      " [20 21 22 23]\n",
      " [30 31 32 33]\n",
      " [40 41 42 43]]\n",
      "b[2,3]= \n",
      " 23\n",
      "b[0:5,1]= \n",
      " [ 1 11 21 31 41]\n",
      "b[ : ,1]= \n",
      " [ 1 11 21 31 41]\n",
      "b[1:3, : ]= \n",
      " [[10 11 12 13]\n",
      " [20 21 22 23]]\n"
     ]
    }
   ],
   "source": [
    "# from gettext import npgettext\n",
    "\n",
    "\n",
    "import numpy as np\n",
    "\n",
    "def f(x,y):\n",
    "    return 10*x+y\n",
    "\n",
    "b= np.fromfunction(f,(5,4),dtype=int)    #Construct an array by executing a function over each coordinate.\n",
    "print(\"b= \\n\", b)\n",
    "\n",
    "print(\"b[2,3]= \\n\", b[2,3])\n",
    "\n",
    "print(\"b[0:5,1]= \\n\", b[0:5,1])\n",
    "print(\"b[ : ,1]= \\n\", b[ : ,1])\n",
    "\n",
    "print(\"b[1:3, : ]= \\n\", b[1:3, : ])"
   ]
  },
  {
   "cell_type": "markdown",
   "id": "e046d411",
   "metadata": {},
   "source": [
    "### row , element , _.flat"
   ]
  },
  {
   "cell_type": "code",
   "execution_count": 1,
   "id": "6dacd275",
   "metadata": {},
   "outputs": [
    {
     "name": "stdout",
     "output_type": "stream",
     "text": [
      "[0 1 2 3]\n",
      "[10 11 12 13]\n",
      "[20 21 22 23]\n",
      "[30 31 32 33]\n",
      "[40 41 42 43]\n",
      "0\n",
      "1\n",
      "2\n",
      "3\n",
      "10\n",
      "11\n",
      "12\n",
      "13\n",
      "20\n",
      "21\n",
      "22\n",
      "23\n",
      "30\n",
      "31\n",
      "32\n",
      "33\n",
      "40\n",
      "41\n",
      "42\n",
      "43\n"
     ]
    }
   ],
   "source": [
    "import numpy as np\n",
    "p= np.array([[0,1,2,3],\n",
    "             [10,11,12,13],\n",
    "             [20,21,22,23],\n",
    "             [30,31,32,33],\n",
    "             [40,41,42,43]])\n",
    "\n",
    "for row in p:\n",
    "    print(row)\n",
    "\n",
    "for element in p.flat:\n",
    "    print(element)"
   ]
  },
  {
   "cell_type": "markdown",
   "id": "af4f012c",
   "metadata": {},
   "source": [
    "### np.vstack() , np.hstack() , np.column_stack() , np.hsplit(array , indices_or_sections)"
   ]
  },
  {
   "cell_type": "code",
   "execution_count": 2,
   "id": "6d9b88e3",
   "metadata": {},
   "outputs": [
    {
     "name": "stdout",
     "output_type": "stream",
     "text": [
      "aa= \n",
      " [[1 2]\n",
      " [3 4]]\n",
      "bb= \n",
      " [[5 6]\n",
      " [7 8]]\n",
      "vstack= \n",
      " [[1 2]\n",
      " [3 4]\n",
      " [5 6]\n",
      " [7 8]]\n",
      "hstack= \n",
      " [[1 2 5 6]\n",
      " [3 4 7 8]]\n"
     ]
    }
   ],
   "source": [
    "import numpy as np\n",
    "\n",
    "aa=np.array([[1,2],\n",
    "            [3,4]])\n",
    "print(\"aa= \\n\",aa)\n",
    "\n",
    "bb=np.array([[5,6],\n",
    "            [7,8]])\n",
    "print(\"bb= \\n\",bb)\n",
    "\n",
    "print(\"vstack= \\n\", np.vstack((aa,bb)))\n",
    "print(\"hstack= \\n\", np.hstack((aa,bb)))"
   ]
  },
  {
   "cell_type": "code",
   "execution_count": 3,
   "id": "25654364",
   "metadata": {},
   "outputs": [
    {
     "name": "stdout",
     "output_type": "stream",
     "text": [
      "input1= \n",
      " [1 2 3]\n",
      "input2= \n",
      " [4 5 6]\n",
      "output= \n",
      " [[1 4]\n",
      " [2 5]\n",
      " [3 6]]\n"
     ]
    }
   ],
   "source": [
    "import numpy as np\n",
    "\n",
    "in_array1= np.array([1,2,3])\n",
    "print(\"input1= \\n\", in_array1)\n",
    "\n",
    "in_array2= np.array([4,5,6])\n",
    "print(\"input2= \\n\", in_array2)\n",
    "\n",
    "out_array= np.column_stack([in_array1, in_array2])\n",
    "print(\"output= \\n\", out_array)"
   ]
  },
  {
   "cell_type": "code",
   "execution_count": 4,
   "id": "4a99c261",
   "metadata": {},
   "outputs": [
    {
     "name": "stdout",
     "output_type": "stream",
     "text": [
      "input1= \n",
      " [[ 1  2  3]\n",
      " [-1 -2 -3]]\n",
      "input2= \n",
      " [[ 4  5  6]\n",
      " [-4 -5 -6]]\n",
      "output= \n",
      " [[ 1  2  3  4  5  6]\n",
      " [-1 -2 -3 -4 -5 -6]]\n"
     ]
    }
   ],
   "source": [
    "import numpy as np\n",
    "\n",
    "in_array1= np.array([[1,2,3],[-1,-2,-3]])\n",
    "print(\"input1= \\n\", in_array1)\n",
    "\n",
    "in_array2= np.array([[4,5,6],[-4,-5,-6]])\n",
    "print(\"input2= \\n\", in_array2)\n",
    "\n",
    "out_array= np.column_stack([in_array1, in_array2])\n",
    "print(\"output= \\n\", out_array)"
   ]
  },
  {
   "cell_type": "code",
   "execution_count": 5,
   "id": "68297a62",
   "metadata": {},
   "outputs": [
    {
     "name": "stdout",
     "output_type": "stream",
     "text": [
      "x= \n",
      " [array([[6., 7., 6., 9.],\n",
      "       [8., 5., 5., 7.]]), array([[0., 5., 4., 0.],\n",
      "       [1., 8., 6., 7.]]), array([[6., 8., 5., 2.],\n",
      "       [1., 8., 1., 0.]])]\n",
      "y= \n",
      " [array([[6., 7., 6., 9.],\n",
      "       [8., 5., 5., 7.]]), array([[0., 5., 4., 0.],\n",
      "       [1., 8., 6., 7.]]), array([[6., 8., 5., 2.],\n",
      "       [1., 8., 1., 0.]])]\n"
     ]
    }
   ],
   "source": [
    "import numpy as np\n",
    "\n",
    "arr= np.array([[6.,7.,6.,9.,0.,5.,4.,0.,6.,8.,5.,2.,],\n",
    "               [8.,5.,5.,7.,1.,8.,6.,7.,1.,8.,1.,0.,]])\n",
    "\n",
    "x= np.hsplit(arr,3)    #hsplit splits an array into multiple sub-arrays horizontally (column-wise).\n",
    "print(\"x= \\n\",x)\n",
    "\n",
    "y=x.copy()\n",
    "print(\"y= \\n\",y)"
   ]
  },
  {
   "cell_type": "code",
   "execution_count": 6,
   "id": "04c58ec6",
   "metadata": {},
   "outputs": [
    {
     "name": "stdout",
     "output_type": "stream",
     "text": [
      "x= \n",
      " [[ 0.  1.  2.  3.]\n",
      " [ 4.  5.  6.  7.]\n",
      " [ 8.  9. 10. 11.]\n",
      " [12. 13. 14. 15.]]\n",
      "y= \n",
      " [array([[ 0.,  1.,  2.],\n",
      "       [ 4.,  5.,  6.],\n",
      "       [ 8.,  9., 10.],\n",
      "       [12., 13., 14.]]), array([[ 3.],\n",
      "       [ 7.],\n",
      "       [11.],\n",
      "       [15.]]), array([], shape=(4, 0), dtype=float64)]\n"
     ]
    }
   ],
   "source": [
    "import numpy as np\n",
    "x = np.arange(16.0).reshape(4, 4)\n",
    "print(\"x= \\n\",x)\n",
    "print(\"y= \\n\", np.hsplit(x, np.array([3, 6])))\n"
   ]
  },
  {
   "cell_type": "markdown",
   "id": "8418a6c4",
   "metadata": {},
   "source": [
    "### ma.concatenate(arrays , axis)"
   ]
  },
  {
   "cell_type": "code",
   "execution_count": 7,
   "id": "6204f089",
   "metadata": {},
   "outputs": [
    {
     "name": "stdout",
     "output_type": "stream",
     "text": [
      "[1 2 3 4 5 6]\n",
      "[[1 2 3]\n",
      " [4 5 6]]\n"
     ]
    }
   ],
   "source": [
    "import numpy as np\n",
    "import numpy.ma as ma\n",
    "\n",
    "a1= np.array([1,2,3])\n",
    "a2= np.array([4,5,6])\n",
    "\n",
    "a= ma.concatenate([a1,a2])\n",
    "print(a)\n",
    "\n",
    "b= ma.concatenate([[a1],[a2]])\n",
    "print(b)"
   ]
  },
  {
   "cell_type": "markdown",
   "id": "e6a9560e",
   "metadata": {},
   "source": [
    "### len() "
   ]
  },
  {
   "cell_type": "code",
   "execution_count": 8,
   "id": "f072b712",
   "metadata": {},
   "outputs": [
    {
     "name": "stdout",
     "output_type": "stream",
     "text": [
      "test_list=  [[5, 6, 8], [7, 4, 3], [8, 10, 12]]\n",
      "LenTestList=  3\n",
      "mult_list=  [10, 20, 30]\n",
      "the list after multiply: \n",
      " [[50, 60, 80], [140, 80, 60], [240, 300, 360]]\n"
     ]
    }
   ],
   "source": [
    "import numpy as np\n",
    "\n",
    "test_list= [[5,6,8],[7,4,3], [8,10,12]]\n",
    "\n",
    "mult_list= [10,20,30]\n",
    "\n",
    "print(\"test_list= \", test_list)\n",
    "print(\"LenTestList= \", len(test_list))\n",
    "\n",
    "print(\"mult_list= \", mult_list)\n",
    "\n",
    "res= [[] for idx in range(len(test_list))]\n",
    "for i in range(len(test_list)):\n",
    "    for j in range(len(mult_list)):\n",
    "        res[i]+= [mult_list[i]*test_list[i][j]]\n",
    "\n",
    "print(\"the list after multiply: \\n\", res)"
   ]
  },
  {
   "cell_type": "code",
   "execution_count": 9,
   "id": "ff4be7af",
   "metadata": {},
   "outputs": [
    {
     "name": "stdout",
     "output_type": "stream",
     "text": [
      "[[ 0  1  2  3]\n",
      " [ 4  5  6  7]\n",
      " [ 8  9 10 11]]\n",
      "------------------\n",
      "[[[ 0  1  2  3]\n",
      "  [ 4  5  6  7]]\n",
      "\n",
      " [[ 4  5  6  7]\n",
      "  [ 8  9 10 11]]]\n",
      "------------------\n",
      "index is:  [[ 2  5]\n",
      " [ 7 11]]\n",
      "-------------------\n",
      "[[ 2  6]\n",
      " [ 6 10]]\n"
     ]
    }
   ],
   "source": [
    "import numpy as np\n",
    "\n",
    "a= np.arange(12).reshape(3,4)\n",
    "print(a)\n",
    "print(\"------------------\")\n",
    "\n",
    "i=np.array([[0,1],\n",
    "            [1,2]])\n",
    "print(a[i])\n",
    "print(\"------------------\")\n",
    "\n",
    "j=np.array([[2,1],\n",
    "            [3,3]])\n",
    "\n",
    "print(\"index is: \", a[i,j])\n",
    "print(\"-------------------\")\n",
    "\n",
    "print(a[i,2])"
   ]
  },
  {
   "cell_type": "code",
   "execution_count": 10,
   "id": "06c1ef77",
   "metadata": {},
   "outputs": [
    {
     "name": "stdout",
     "output_type": "stream",
     "text": [
      "[[ 0.  1.  2.]\n",
      " [10. 11. 12.]\n",
      " [20. 21. 22.]\n",
      " [30. 31. 32.]]\n"
     ]
    }
   ],
   "source": [
    "import numpy as np\n",
    "\n",
    "a= np.array([0.0,10.0,20.0,30.0])\n",
    "b= np.array([0.0,1.0,2.0])\n",
    "\n",
    "print(a[:,np.newaxis]+b)"
   ]
  },
  {
   "cell_type": "markdown",
   "id": "17743f97",
   "metadata": {},
   "source": [
    "### np.datetime64() , np.timedelta64(value , format) "
   ]
  },
  {
   "cell_type": "code",
   "execution_count": 11,
   "id": "eaca6e05",
   "metadata": {},
   "outputs": [
    {
     "name": "stdout",
     "output_type": "stream",
     "text": [
      "Date is: 2020-02-12\n",
      "Year is: 2020\n",
      "\n",
      "Dates of February, 2020: \n",
      " ['2020-02-01' '2020-02-02' '2020-02-03' '2020-02-04' '2020-02-05'\n",
      " '2020-02-06' '2020-02-07' '2020-02-08' '2020-02-09' '2020-02-10'\n",
      " '2020-02-11' '2020-02-12' '2020-02-13' '2020-02-14' '2020-02-15'\n",
      " '2020-02-16' '2020-02-17' '2020-02-18' '2020-02-19' '2020-02-20'\n",
      " '2020-02-21' '2020-02-22' '2020-02-23' '2020-02-24' '2020-02-25'\n",
      " '2020-02-26' '2020-02-27' '2020-02-28' '2020-02-29']\n",
      "Today is February: True\n",
      "\n",
      "No. of days: 365 days\n",
      "No. of weeks: 52 weeks\n",
      "\n",
      "Dates in sorted order: ['2018-02-12' '2019-10-13' '2020-05-22']\n"
     ]
    }
   ],
   "source": [
    "import numpy as np\n",
    "\n",
    "today= np.datetime64('2020-02-12')\n",
    "print(\"Date is:\", today)\n",
    "print(\"Year is:\", np.datetime64(today, 'Y'))\n",
    "\n",
    "dates= np.arange('2020-02', '2020-03', dtype= 'datetime64[D]')\n",
    "print(\"\\nDates of February, 2020: \\n\", dates)\n",
    "print(\"Today is February:\", today in dates)\n",
    "\n",
    "dur= np.datetime64('2021-05-22') - np.datetime64('2020-05-22')\n",
    "print(\"\\nNo. of days:\", dur)\n",
    "print(\"No. of weeks:\", np.timedelta64(dur, 'W'))\n",
    "\n",
    "a=np.array(['2018-02-12','2019-10-13','2020-05-22'], dtype='datetime64')\n",
    "print(\"\\nDates in sorted order:\", np.sort(a))"
   ]
  },
  {
   "cell_type": "markdown",
   "id": "9a510133",
   "metadata": {},
   "source": [
    "### np.round_(value , decimals= ) "
   ]
  },
  {
   "cell_type": "code",
   "execution_count": 12,
   "id": "f2bd279e",
   "metadata": {},
   "outputs": [
    {
     "name": "stdout",
     "output_type": "stream",
     "text": [
      "Input array=\n",
      " [0.5, 1.5, 2.5, 3.5, 4.5, 10.1]\n",
      "\n",
      "Rounded Values_\n",
      " [ 0.  2.  2.  4.  4. 10.]\n",
      "---------------------------------------\n",
      "Input array=\n",
      " [0.53, 1.54, 0.71]\n",
      "\n",
      "Rounded Values_\n",
      " [1. 2. 1.]\n",
      "---------------------------------------\n",
      "Input array=\n",
      " [0.5538, 1.33354, 0.71445]\n",
      "\n",
      "Rounded Values_\n",
      " [0.554 1.334 0.714]\n"
     ]
    }
   ],
   "source": [
    "import numpy as np\n",
    "\n",
    "in_array= [.5,1.5,2.5,3.5,4.5,10.1]\n",
    "print(\"Input array=\\n\", in_array)\n",
    "\n",
    "round_of_values= np.round_(in_array)\n",
    "print(\"\\nRounded Values_\\n\", round_of_values)\n",
    "print(\"---------------------------------------\")\n",
    "#############################################################\n",
    "in_array= [.53,1.54,.71]\n",
    "print(\"Input array=\\n\", in_array)\n",
    "\n",
    "round_of_values= np.round_(in_array)\n",
    "print(\"\\nRounded Values_\\n\", round_of_values)\n",
    "print(\"---------------------------------------\")\n",
    "############################################################\n",
    "in_array= [.5538,1.33354,.71445]\n",
    "print(\"Input array=\\n\", in_array)\n",
    "\n",
    "round_of_values= np.round_(in_array, decimals=3)\n",
    "print(\"\\nRounded Values_\\n\", round_of_values)"
   ]
  },
  {
   "cell_type": "markdown",
   "id": "fbd8fe78",
   "metadata": {},
   "source": [
    "## np.random.rand()  ,  np.random.randn()"
   ]
  },
  {
   "cell_type": "code",
   "execution_count": 14,
   "id": "b2e1b0c5",
   "metadata": {},
   "outputs": [
    {
     "name": "stdout",
     "output_type": "stream",
     "text": [
      "[[0.12649953 0.53098329 0.90069897 0.05977903 0.82084332]\n",
      " [0.33927203 0.64352441 0.47887149 0.87487417 0.70986953]\n",
      " [0.566284   0.0501875  0.66348492 0.43704511 0.02268241]\n",
      " [0.67545776 0.60882208 0.472861   0.35155508 0.10144342]]\n"
     ]
    }
   ],
   "source": [
    "import numpy as np  \n",
    "a= np.random.rand(4,5)   #zwischen 0 und 1\n",
    "print(a)"
   ]
  },
  {
   "cell_type": "code",
   "execution_count": 13,
   "id": "d3e408bf",
   "metadata": {},
   "outputs": [
    {
     "name": "stdout",
     "output_type": "stream",
     "text": [
      "[[-0.07296481  0.08299795 -0.49907675  0.2024926  -1.10114233]\n",
      " [-1.95564434  0.46398531 -0.29969118  1.89851807  1.53382248]\n",
      " [ 0.20869363 -0.47790584  0.22356269  0.05193199  0.40043329]\n",
      " [-0.37404723  0.50707912  1.0133104  -0.66783322 -0.65619231]]\n"
     ]
    }
   ],
   "source": [
    "import numpy as np\n",
    "a= np.random.randn(4,5)     #random von normal Kurve\n",
    "print(a)"
   ]
  },
  {
   "cell_type": "markdown",
   "id": "1ba63239",
   "metadata": {},
   "source": [
    "## np.set_printoptions()"
   ]
  },
  {
   "cell_type": "code",
   "execution_count": 15,
   "id": "2187815d",
   "metadata": {},
   "outputs": [],
   "source": [
    "np.set_printoptions(formatter={'all': lambda x: '%.2f' % x})"
   ]
  }
 ],
 "metadata": {
  "kernelspec": {
   "display_name": "Python 3 (ipykernel)",
   "language": "python",
   "name": "python3"
  },
  "language_info": {
   "codemirror_mode": {
    "name": "ipython",
    "version": 3
   },
   "file_extension": ".py",
   "mimetype": "text/x-python",
   "name": "python",
   "nbconvert_exporter": "python",
   "pygments_lexer": "ipython3",
   "version": "3.9.7"
  }
 },
 "nbformat": 4,
 "nbformat_minor": 5
}
